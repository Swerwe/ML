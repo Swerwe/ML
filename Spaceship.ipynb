{
 "cells": [
  {
   "cell_type": "code",
   "execution_count": 300,
   "id": "5e008d10-1f74-4806-8a1a-599f0cd6bdae",
   "metadata": {},
   "outputs": [],
   "source": [
    "import pandas as pd\n",
    "import numpy as np\n",
    "import matplotlib.pyplot as plt\n",
    "from sklearn.tree import DecisionTreeClassifier\n",
    "from sklearn.impute import KNNImputer\n",
    "from sklearn.preprocessing import LabelEncoder\n",
    "# Importing Classifier Modules\n",
    "from sklearn.linear_model import LogisticRegression\n",
    "from sklearn.svm import SVC, LinearSVC\n",
    "from sklearn.neighbors import KNeighborsClassifier\n",
    "from sklearn.tree import DecisionTreeClassifier\n",
    "from sklearn.ensemble import RandomForestClassifier\n",
    "from sklearn.naive_bayes import GaussianNB\n",
    "from sklearn.linear_model import Perceptron\n",
    "from sklearn.linear_model import SGDClassifier\n",
    "%matplotlib inline\n",
    "train = pd.read_csv('./data/train.csv')\n",
    "test = pd.read_csv('./data/test.csv')\n",
    "le = LabelEncoder()\n",
    "train['Name'] = le.fit_transform(train['Name'])\n",
    "train['Sex'] = le.fit_transform(train['Sex'])\n",
    "train['Ticket'] = le.fit_transform(train['Ticket'])\n",
    "train['Cabin'] = le.fit_transform(train['Cabin'])\n",
    "train['Embarked'] = le.fit_transform(train['Embarked'])\n",
    "\n",
    "test['Name'] = le.fit_transform(test['Name'])\n",
    "test['Sex'] = le.fit_transform(test['Sex'])\n",
    "test['Ticket'] = le.fit_transform(test['Ticket'])\n",
    "test['Cabin'] = le.fit_transform(test['Cabin'])\n",
    "test['Embarked'] = le.fit_transform(test['Embarked'])\n",
    "# Удаляем строки с пустыми значениями\n",
    "train_excluded_rows = train.dropna()\n",
    "test_excluded_rows = test.dropna()\n",
    "# Удаляем строки с пустыми стольбцами\n",
    "train_excluded_cols = train.dropna(axis=1)\n",
    "test_excluded_cols = test.dropna(axis=1)"
   ]
  },
  {
   "cell_type": "code",
   "execution_count": 301,
   "id": "ad481e66-be2a-4002-80d4-a2ca64bfd2cc",
   "metadata": {},
   "outputs": [],
   "source": [
    "# Заменяем null на моды\n",
    "modes = train.mode().iloc[0]\n",
    "train_replaced_medians = train.fillna(modes)\n",
    "\n",
    "modes = test.mode().iloc[0]\n",
    "test_replaced_medians = test.fillna(modes)"
   ]
  },
  {
   "cell_type": "code",
   "execution_count": 302,
   "id": "063053dd-bada-436d-8289-d6e583f93b3b",
   "metadata": {},
   "outputs": [],
   "source": [
    "# Предсказываем пустые значения\n",
    "train_encoded = pd.get_dummies(train)\n",
    "test_encoded = pd.get_dummies(test)\n",
    "le = LabelEncoder()\n",
    "imputer = KNNImputer(n_neighbors=20)\n",
    "train_imputed = pd.DataFrame(imputer.fit_transform(train_encoded), columns=train_encoded.columns)\n",
    "test_imputed = pd.DataFrame(imputer.fit_transform(test_encoded), columns=test_encoded.columns)\n",
    "clf = KNeighborsClassifier(n_neighbors=30)"
   ]
  },
  {
   "cell_type": "code",
   "execution_count": 303,
   "id": "540dc583-be33-4569-b4f3-7f0135247ac5",
   "metadata": {},
   "outputs": [],
   "source": [
    "X_train = train_excluded_rows.drop('Survived', axis=1)\n",
    "y_train = train_excluded_rows['Survived']\n",
    "\n",
    "X_test = test.dropna().copy()\n"
   ]
  },
  {
   "cell_type": "code",
   "execution_count": 304,
   "id": "d37a00db-478c-4a00-8a08-498d49a927ea",
   "metadata": {},
   "outputs": [
    {
     "name": "stdout",
     "output_type": "stream",
     "text": [
      "65.97 percent\n"
     ]
    }
   ],
   "source": [
    "clf.fit(X_train, y_train)\n",
    "y_pred_log_reg = clf.predict(X_test)\n",
    "acc_log_reg = round( clf.score(X_train, y_train) * 100, 2)\n",
    "print (str(acc_log_reg) + ' percent')"
   ]
  },
  {
   "cell_type": "code",
   "execution_count": 305,
   "id": "1bb98f86-3f22-4e63-8ea2-f7d5c20aa8a8",
   "metadata": {},
   "outputs": [],
   "source": [
    "X_train = train_excluded_cols.drop('Survived', axis=1)\n",
    "y_train = train_excluded_cols['Survived']\n",
    "\n",
    "X_test = test.copy().drop(['Age'],axis=1).dropna()"
   ]
  },
  {
   "cell_type": "code",
   "execution_count": 306,
   "id": "84e8311f-b4f7-4a47-a800-c02a690b3f81",
   "metadata": {},
   "outputs": [
    {
     "name": "stdout",
     "output_type": "stream",
     "text": [
      "67.34 percent\n"
     ]
    }
   ],
   "source": [
    "clf.fit(X_train, y_train)\n",
    "y_pred_log_reg = clf.predict(X_test)\n",
    "acc_log_reg = round( clf.score(X_train, y_train) * 100, 2)\n",
    "print (str(acc_log_reg) + ' percent')"
   ]
  },
  {
   "cell_type": "code",
   "execution_count": 307,
   "id": "d8b4a2fe-2577-457d-ab15-05cec8efa955",
   "metadata": {},
   "outputs": [],
   "source": [
    "X_train = train_replaced_medians.drop('Survived', axis=1)\n",
    "y_train = train_replaced_medians['Survived']\n",
    "\n",
    "X_test = test_replaced_medians.copy()"
   ]
  },
  {
   "cell_type": "code",
   "execution_count": 308,
   "id": "18e2323c-3a21-44c9-a0ec-b9e41ac3e9a7",
   "metadata": {},
   "outputs": [
    {
     "name": "stdout",
     "output_type": "stream",
     "text": [
      "67.12 percent\n"
     ]
    }
   ],
   "source": [
    "clf.fit(X_train, y_train)\n",
    "y_pred_log_reg = clf.predict(X_test)\n",
    "acc_log_reg = round( clf.score(X_train, y_train) * 100, 2)\n",
    "print (str(acc_log_reg) + ' percent')"
   ]
  },
  {
   "cell_type": "code",
   "execution_count": 309,
   "id": "b39c217f-5934-4010-9fd3-b004cacd8803",
   "metadata": {},
   "outputs": [],
   "source": [
    "X_train = train_imputed.drop('Survived', axis=1)\n",
    "y_train = train_imputed['Survived']\n",
    "\n",
    "X_test = test_imputed.copy()"
   ]
  },
  {
   "cell_type": "code",
   "execution_count": 310,
   "id": "6864b86a-c3e5-412a-bd85-1dbf22bc13f0",
   "metadata": {},
   "outputs": [
    {
     "name": "stdout",
     "output_type": "stream",
     "text": [
      "67.34 percent\n"
     ]
    }
   ],
   "source": [
    "clf.fit(X_train, y_train)\n",
    "y_pred_log_reg = clf.predict(X_test)\n",
    "acc_log_reg = round( clf.score(X_train, y_train) * 100, 2)\n",
    "print (str(acc_log_reg) + ' percent')"
   ]
  },
  {
   "cell_type": "code",
   "execution_count": 311,
   "id": "ddfbf1da-2095-449f-a058-bf9f965be074",
   "metadata": {},
   "outputs": [
    {
     "name": "stdout",
     "output_type": "stream",
     "text": [
      "              Operation     Percentage\n",
      "0      Deletion of Rows  65.97 percent\n",
      "1   Deletion of Columns  67.34 percent\n",
      "2       Mode Imputation  67.12 percent\n",
      "3  Prediction of Values  67.34 percent\n"
     ]
    }
   ],
   "source": [
    "percentages = pd.DataFrame({\n",
    "    'Operation': ['Deletion of Rows', 'Deletion of Columns', 'Mode Imputation', 'Prediction of Values'],\n",
    "    'Percentage': ['65.97 percent', '67.34 percent', '67.12 percent', '67.34 percent']\n",
    "})\n",
    "print(percentages)\n"
   ]
  },
  {
   "cell_type": "code",
   "execution_count": 312,
   "id": "373669eb-9a54-484c-aff8-11222cd6b707",
   "metadata": {},
   "outputs": [],
   "source": [
    "submission = pd.DataFrame({\n",
    "        \"PassengerId\": test[\"PassengerId\"],\n",
    "        \"Survived\": y_pred_log_reg\n",
    "    })"
   ]
  },
  {
   "cell_type": "code",
   "execution_count": 313,
   "id": "f1f44d6b-4deb-4ee1-8e21-ebe2ff023535",
   "metadata": {},
   "outputs": [],
   "source": [
    "submission.to_csv('submission.csv', index=False)"
   ]
  },
  {
   "cell_type": "code",
   "execution_count": null,
   "id": "482d8c31-f051-4c8f-a8f1-ef01212d4f4a",
   "metadata": {},
   "outputs": [],
   "source": []
  }
 ],
 "metadata": {
  "kernelspec": {
   "display_name": "Python 3 (ipykernel)",
   "language": "python",
   "name": "python3"
  },
  "language_info": {
   "codemirror_mode": {
    "name": "ipython",
    "version": 3
   },
   "file_extension": ".py",
   "mimetype": "text/x-python",
   "name": "python",
   "nbconvert_exporter": "python",
   "pygments_lexer": "ipython3",
   "version": "3.11.5"
  }
 },
 "nbformat": 4,
 "nbformat_minor": 5
}
